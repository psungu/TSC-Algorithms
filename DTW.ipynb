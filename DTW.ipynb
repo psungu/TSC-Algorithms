{
 "cells": [
  {
   "cell_type": "code",
   "execution_count": 1,
   "metadata": {},
   "outputs": [],
   "source": [
    "import numpy as np\n",
    "import pandas as pd\n",
    "from sklearn.neighbors import KNeighborsClassifier\n",
    "from fastdtw import fastdtw"
   ]
  },
  {
   "cell_type": "markdown",
   "metadata": {},
   "source": [
    "* Pseudocode of DTW\n",
    "\n",
    "<div style=\"text-align: center;\">\n",
    "  <img src=\"./captures/dtw.png\" alt=\"Pseudocode of DTW\" style=\"display: inline-block;\" />\n",
    "</div>\n",
    "* The great multivariate time series classification bake off: a review and experimental evaluation of recent algorithmic advances by Ruiz AFlynn MLarge J et al."
   ]
  },
  {
   "cell_type": "code",
   "execution_count": 2,
   "metadata": {},
   "outputs": [],
   "source": [
    "def dtw(s1, s2):\n",
    "    \"\"\"\n",
    "    Compute the Dynamic Time Warping distance between two sequences.\n",
    "\n",
    "    Args:\n",
    "        s1 (numpy.ndarray): First sequence.\n",
    "        s2 (numpy.ndarray): Second sequence.\n",
    "\n",
    "    Returns:\n",
    "        float: DTW distance between the two sequences.\n",
    "    \"\"\"\n",
    "    n, m = len(s1), len(s2)\n",
    "    dtw_matrix = np.zeros((n + 1, m + 1))\n",
    "\n",
    "    for i in range(1, n + 1):\n",
    "        for j in range(1, m + 1):\n",
    "            cost = abs(s1[i - 1] - s2[j - 1])\n",
    "            dtw_matrix[i, j] = cost + min(\n",
    "                dtw_matrix[i - 1, j], dtw_matrix[i, j - 1], dtw_matrix[i - 1, j - 1]\n",
    "            )\n",
    "\n",
    "    return dtw_matrix[n, m]"
   ]
  },
  {
   "cell_type": "code",
   "execution_count": 11,
   "metadata": {},
   "outputs": [
    {
     "name": "stdout",
     "output_type": "stream",
     "text": [
      "Accuracy on the test set: 0.96\n"
     ]
    }
   ],
   "source": [
    "# Load the Coffee dataset\n",
    "coffee_train = pd.read_csv(\"data/Coffee/Coffee_TRAIN.txt\", sep=r\"\\s+\", header=None)\n",
    "coffee_test = pd.read_csv(\"data/Coffee/Coffee_TEST.txt\", sep=r\"\\s+\", header=None)\n",
    "\n",
    "\n",
    "X_train = coffee_train.iloc[:, 1:].values\n",
    "y_train = coffee_train.iloc[:, 0].values\n",
    "X_test = coffee_test.iloc[:, 1:].values\n",
    "y_test = coffee_test.iloc[:, 0].values\n",
    "\n",
    "n = len(X_train)\n",
    "distance_matrix = np.zeros((n, n))\n",
    "\n",
    "for i in range(n):\n",
    "    for j in range(i + 1, n):\n",
    "        distance_matrix[i, j] = dtw(X_train[i], X_train[j])\n",
    "        distance_matrix[j, i] = distance_matrix[i, j]\n",
    "\n",
    "# Train a k-NN classifier using DTW distances\n",
    "\n",
    "knn = KNeighborsClassifier(n_neighbors=1, metric=\"precomputed\")\n",
    "knn.fit(distance_matrix, y_train)\n",
    "\n",
    "# Evaluate the classifier on the test set\n",
    "m = len(X_test)\n",
    "X_test_distances = np.zeros((len(X_test), m))\n",
    "for i in range(len(X_test)):\n",
    "    for j in range(m):\n",
    "        X_test_distances[i, j] = dtw(X_test[i], X_train[j])\n",
    "\n",
    "accuracy = knn.score(X_test_distances, y_test)\n",
    "print(f\"Accuracy on the test set: {accuracy:.2f}\")"
   ]
  },
  {
   "cell_type": "code",
   "execution_count": 12,
   "metadata": {},
   "outputs": [
    {
     "name": "stdout",
     "output_type": "stream",
     "text": [
      "Accuracy on the test set: 0.96\n"
     ]
    }
   ],
   "source": [
    "n = len(X_train)\n",
    "distance_matrix = np.zeros((n, n))\n",
    "\n",
    "for i in range(n):\n",
    "    for j in range(i + 1, n):\n",
    "        distance, _ = fastdtw(X_train[i], X_train[j])\n",
    "        distance_matrix[i, j] = distance\n",
    "        distance_matrix[j, i] = distance\n",
    "\n",
    "# Train a k-NN classifier using DTW distances\n",
    "\n",
    "knn = KNeighborsClassifier(n_neighbors=1, metric=\"precomputed\")\n",
    "knn.fit(distance_matrix, y_train)\n",
    "\n",
    "# Evaluate the classifier on the test set\n",
    "m = len(X_test)\n",
    "\n",
    "X_test_distances = np.zeros((len(X_test), m))\n",
    "for i in range(len(X_test)):\n",
    "    for j in range(m):\n",
    "        distance, _ = fastdtw(X_test[i], X_train[j])\n",
    "        X_test_distances[i, j] = distance\n",
    "\n",
    "accuracy = knn.score(X_test_distances, y_test)\n",
    "print(f\"Accuracy on the test set: {accuracy:.2f}\")"
   ]
  }
 ],
 "metadata": {
  "kernelspec": {
   "display_name": "TSC-Algorithms",
   "language": "python",
   "name": "python3"
  },
  "language_info": {
   "codemirror_mode": {
    "name": "ipython",
    "version": 3
   },
   "file_extension": ".py",
   "mimetype": "text/x-python",
   "name": "python",
   "nbconvert_exporter": "python",
   "pygments_lexer": "ipython3",
   "version": "3.12.3"
  }
 },
 "nbformat": 4,
 "nbformat_minor": 2
}
